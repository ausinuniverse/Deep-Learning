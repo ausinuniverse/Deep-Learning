{
 "cells": [
  {
   "cell_type": "code",
   "execution_count": 4,
   "id": "2ce9d067-a662-4e78-926e-e729c6d1bc2f",
   "metadata": {},
   "outputs": [
    {
     "name": "stdout",
     "output_type": "stream",
     "text": [
      "/Users/ausin/Desktop/projects/Deep-Learning/Tensorflow/NLP/nltk-tutorial\n",
      "Quantum Mechanics\n",
      "\n"
     ]
    }
   ],
   "source": [
    "import os\n",
    "\n",
    "def call():\n",
    "    print(os.getcwd())\n",
    "\n",
    "def data():\n",
    "    text_file = open(\"files/physics.txt\",'r')\n",
    "    print(text_file.read())\n",
    "\n",
    "call()\n",
    "data()"
   ]
  },
  {
   "cell_type": "code",
   "execution_count": null,
   "id": "ddbf17b1-0612-4e32-9222-c52ab5a77668",
   "metadata": {},
   "outputs": [],
   "source": []
  },
  {
   "cell_type": "code",
   "execution_count": null,
   "id": "bbddd429-388d-4b02-8f87-dfce84238cff",
   "metadata": {},
   "outputs": [],
   "source": []
  }
 ],
 "metadata": {
  "kernelspec": {
   "display_name": "Python [conda env:base] *",
   "language": "python",
   "name": "conda-base-py"
  },
  "language_info": {
   "codemirror_mode": {
    "name": "ipython",
    "version": 3
   },
   "file_extension": ".py",
   "mimetype": "text/x-python",
   "name": "python",
   "nbconvert_exporter": "python",
   "pygments_lexer": "ipython3",
   "version": "3.12.7"
  }
 },
 "nbformat": 4,
 "nbformat_minor": 5
}
